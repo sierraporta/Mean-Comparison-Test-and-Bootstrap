{
 "cells": [
  {
   "cell_type": "code",
   "execution_count": 1,
   "metadata": {},
   "outputs": [],
   "source": [
    "import numpy as np\n",
    "import matplotlib.pyplot as plt\n",
    "from numpy import mean\n",
    "from numpy import std\n",
    "from scipy.stats import ttest_ind\n",
    "from scipy.stats import ttest_rel\n",
    "from scipy.stats import f_oneway\n",
    "import scipy\n",
    "from scipy.stats import mannwhitneyu\n",
    "from scipy.stats import wilcoxon\n",
    "from scipy.stats import friedmanchisquare\n",
    "import statsmodels.api as sm\n",
    "#Notation for arrays is [amp, ampErr, power, powerErr] "
   ]
  },
  {
   "cell_type": "code",
   "execution_count": 2,
   "metadata": {},
   "outputs": [],
   "source": [
    "s1_17=[0.026779919201625785, 0.002526052041872874, -0.8079318432862979, 0.08039086869390825]\n",
    "s1_18=[0.017380164402637698, 0.0017617078857607089, -0.762975565704109, 0.07294258628678367]\n",
    "s1_19=[0.011665547047211781, 0.0021260057019400415, -0.7259325455760224, 0.10413661708727116]"
   ]
  },
  {
   "cell_type": "code",
   "execution_count": 3,
   "metadata": {},
   "outputs": [],
   "source": [
    "s2_17=[0.015261771284093017, 0.002811287651344974, -0.9496385339826908, 0.13472970798605582]\n",
    "s2_18=[0.010632621473611662, 0.0012698211987652772, -0.8619538447685778, 0.08388957948829179]\n",
    "s2_19=[0.0080056726182495, 0.0019510554950285255, -0.7883432957558026, 0.13920232304918068]"
   ]
  },
  {
   "cell_type": "code",
   "execution_count": 4,
   "metadata": {},
   "outputs": [],
   "source": [
    "s3_17=[0.029812462625904514, 0.00301813438201108, -0.7716559417961378, 0.08238094110641052]\n",
    "s3_18=[0.016827591901661495, 0.0023736772270570713, -0.7474933418279105, 0.10156166899637957]\n",
    "s3_19=[0.009269472460684089, 0.0015673932738577096, -0.72953356787804, 0.09638103437381991]"
   ]
  },
  {
   "cell_type": "code",
   "execution_count": 5,
   "metadata": {},
   "outputs": [],
   "source": [
    "s4_17=[0.04853745327053422, 0.003720717920284512, -0.7381088883487459, 0.07043815486939099]\n",
    "s4_18=[0.022800309960652878, 0.002209825277278551, -0.7123237032490637, 0.07434908517074175]\n",
    "s4_19=[0.009519550243780038, 0.0004144631026472478, -0.735962291451918, 0.033297509287352686]"
   ]
  },
  {
   "cell_type": "code",
   "execution_count": 6,
   "metadata": {},
   "outputs": [],
   "source": [
    "s5_17=[0.024178278920454137, 0.0023482206242219804, -0.8842509696625954, 0.08423551604948187]\n",
    "s5_18=[0.01495010618305848, 0.002171426599859989, -0.7928578531723262, 0.10551063136284779]\n",
    "s5_19=[0.007580069601896251, 0.00045427452730139933, -0.8014949774157051, 0.04594872325171166]"
   ]
  },
  {
   "cell_type": "code",
   "execution_count": 7,
   "metadata": {},
   "outputs": [],
   "source": [
    "s6_17=[0.0928131013109205, 0.005763910928297904, -0.552209079697239, 0.07385290178279993]\n",
    "s6_18=[0.05726017365697379, 0.002585863738632166, -0.5192829971457751, 0.04255984263354673]\n",
    "s6_19=[0.04601507029389262, 0.0013734704084071713, -0.4795616486573915, 0.026238669504829476]"
   ]
  },
  {
   "cell_type": "code",
   "execution_count": 8,
   "metadata": {},
   "outputs": [],
   "source": [
    "s7_17=[0.01849193727698803, 0.0055839371274203345, -0.9424783763296877, 0.22443764691557389]\n",
    "s7_18=[0.013346760500723136, 0.0019286326950793335, -0.8583957070222683, 0.10998792997038595]\n",
    "s7_19=[0.0085541962669054, 0.0006890269816390712, -0.8634998267609967, 0.059872751435558376]"
   ]
  },
  {
   "cell_type": "code",
   "execution_count": 9,
   "metadata": {},
   "outputs": [],
   "source": [
    "n1_17=[0.025507863277246027, 0.017078202059466047, -0.7969576003069576, 0.3851932808971516]\n",
    "n1_18=[0.01798268032460075, 0.0012414300075314153, -0.7471327659554979, 0.051392970624296035]\n",
    "n1_19=[0.01323768263894266, 0.0003600005905097936, -0.6987720347750138, 0.023573853151617006]"
   ]
  },
  {
   "cell_type": "code",
   "execution_count": 10,
   "metadata": {},
   "outputs": [],
   "source": [
    "n2_17=[0.040001459067326293, 0.02072775896025668, -0.807752304826461, 0.31368744184800296]\n",
    "n2_18=[0.024190621818180137, 0.0022606629826069442, -0.7717318593830912, 0.06821905227489009]\n",
    "n2_19=[0.016338659027711356, 0.001084271510355202, -0.7352570684654702, 0.0502288355337823]"
   ]
  },
  {
   "cell_type": "code",
   "execution_count": 11,
   "metadata": {},
   "outputs": [],
   "source": [
    "n3_17=[0.0164434804446151, 0.0021833393138409995, -0.8854034193580627, 0.11607670303740213]\n",
    "n3_18=[0.013380228538693216, 0.0020826732065516622, -0.8374635492338938, 0.10170146787708152]\n",
    "n3_19=[0.010170824363948021, 0.00209980933717809, -0.7621664446954503, 0.12180469287529833]"
   ]
  },
  {
   "cell_type": "code",
   "execution_count": 12,
   "metadata": {},
   "outputs": [],
   "source": [
    "n4_17=[0.027417281500852184, 0.0029980421743335773, -0.7794010746988371, 0.1073351404307741]\n",
    "n4_18=[0.02235280147975295, 0.0015979069429036367, -0.7186292392000072, 0.06917207638735919]\n",
    "n4_19=[0.011760151880697074, 0.003814506134181949, -0.7331413849499441, 0.17732126790398808]"
   ]
  },
  {
   "cell_type": "code",
   "execution_count": 13,
   "metadata": {},
   "outputs": [],
   "source": [
    "n5_17=[0.043633059394654825, 0.022594191281683596, -0.7229383543726879, 0.3443159007049756]\n",
    "n5_18=[0.022876178611944718, 0.003083548502621373, -0.7521718513813626, 0.09618154826738394]\n",
    "n5_19=[0.017209329707698267, 0.0017252271838313008, -0.6508916304336798, 0.07325667437189354]"
   ]
  },
  {
   "cell_type": "code",
   "execution_count": 14,
   "metadata": {},
   "outputs": [],
   "source": [
    "n6_17=[0.04767395312031084, 0.04631164690492087, -0.7901766994239156, 0.6993403672804832]\n",
    "n6_18=[0.025048443516707576, 0.005913174242486683, -0.7562131870488016, 0.17068514142818453]\n",
    "n6_19=[0.01600995685927111, 0.001449472329781073, -0.7392923908842332, 0.06693185134716378]"
   ]
  },
  {
   "cell_type": "code",
   "execution_count": 15,
   "metadata": {},
   "outputs": [],
   "source": [
    "s_amp_17=np.array([s1_17[0],s2_17[0],s3_17[0],s4_17[0],s5_17[0],s6_17[0],s7_17[0]])\n",
    "s_amp_18=np.array([s1_18[0],s2_18[0],s3_18[0],s4_18[0],s5_18[0],s6_18[0],s7_18[0]])\n",
    "s_amp_19=np.array([s1_19[0],s2_19[0],s3_19[0],s4_19[0],s5_19[0],s6_19[0],s7_19[0]])\n",
    "s_pow_17=np.array([s1_17[2],s2_17[2],s3_17[2],s4_17[2],s5_17[2],s6_17[2],s7_17[2]])\n",
    "s_pow_18=np.array([s1_18[2],s2_18[2],s3_18[2],s4_18[2],s5_18[2],s6_18[2],s7_18[2]])\n",
    "s_pow_19=np.array([s1_19[2],s2_19[2],s3_19[2],s4_19[2],s5_19[2],s6_19[2],s7_19[2]])"
   ]
  },
  {
   "cell_type": "code",
   "execution_count": 16,
   "metadata": {},
   "outputs": [],
   "source": [
    "n_amp_17=np.array([n1_17[0],n2_17[0],n3_17[0],n4_17[0],n5_17[0],n6_17[0]])\n",
    "n_amp_18=np.array([n1_18[0],n2_18[0],n3_18[0],n4_18[0],n5_18[0],n6_18[0]])\n",
    "n_amp_19=np.array([n1_19[0],n2_19[0],n3_19[0],n4_19[0],n5_19[0],n6_19[0]])\n",
    "n_pow_17=np.array([n1_17[2],n2_17[2],n3_17[2],n4_17[2],n5_17[2],n6_17[2]])\n",
    "n_pow_18=np.array([n1_18[2],n2_18[2],n3_18[2],n4_18[2],n5_18[2],n6_18[2]])\n",
    "n_pow_19=np.array([n1_19[2],n2_19[2],n3_19[2],n4_19[2],n5_19[2],n6_19[2]])"
   ]
  },
  {
   "cell_type": "markdown",
   "metadata": {},
   "source": [
    "# Making analysis for mean comparison"
   ]
  },
  {
   "cell_type": "code",
   "execution_count": 17,
   "metadata": {},
   "outputs": [
    {
     "name": "stdout",
     "output_type": "stream",
     "text": [
      "South zones amplitude mean\n"
     ]
    },
    {
     "data": {
      "text/plain": [
       "(0.03655356055578861, 0.02188538972561702, 0.014372796933231383)"
      ]
     },
     "execution_count": 17,
     "metadata": {},
     "output_type": "execute_result"
    }
   ],
   "source": [
    "print(\"South zones amplitude mean\")\n",
    "np.mean(s_amp_17), np.mean(s_amp_18), np.mean(s_amp_19)"
   ]
  },
  {
   "cell_type": "code",
   "execution_count": 18,
   "metadata": {},
   "outputs": [
    {
     "name": "stdout",
     "output_type": "stream",
     "text": [
      "South zones power mean\n"
     ]
    },
    {
     "data": {
      "text/plain": [
       "(-0.8066105190147708, -0.7507547161271473, -0.7320468790708395)"
      ]
     },
     "execution_count": 18,
     "metadata": {},
     "output_type": "execute_result"
    }
   ],
   "source": [
    "print(\"South zones power mean\")\n",
    "np.mean(s_pow_17), np.mean(s_pow_18), np.mean(s_pow_19)"
   ]
  },
  {
   "cell_type": "code",
   "execution_count": 19,
   "metadata": {},
   "outputs": [
    {
     "name": "stdout",
     "output_type": "stream",
     "text": [
      "North zones amplitude mean\n"
     ]
    },
    {
     "data": {
      "text/plain": [
       "(0.03344618280083421, 0.02097182571497989, 0.014121100746378082)"
      ]
     },
     "execution_count": 19,
     "metadata": {},
     "output_type": "execute_result"
    }
   ],
   "source": [
    "print(\"North zones amplitude mean\")\n",
    "np.mean(n_amp_17), np.mean(n_amp_18), np.mean(n_amp_19)"
   ]
  },
  {
   "cell_type": "code",
   "execution_count": 20,
   "metadata": {},
   "outputs": [
    {
     "name": "stdout",
     "output_type": "stream",
     "text": [
      "North zones power mean\n"
     ]
    },
    {
     "data": {
      "text/plain": [
       "(-0.7971049088311536, -0.7638904087004423, -0.7199201590339652)"
      ]
     },
     "execution_count": 20,
     "metadata": {},
     "output_type": "execute_result"
    }
   ],
   "source": [
    "print(\"North zones power mean\")\n",
    "np.mean(n_pow_17), np.mean(n_pow_18), np.mean(n_pow_19)"
   ]
  },
  {
   "cell_type": "code",
   "execution_count": 21,
   "metadata": {},
   "outputs": [
    {
     "name": "stdout",
     "output_type": "stream",
     "text": [
      "South zones amplitude mean\n"
     ]
    },
    {
     "data": {
      "text/plain": [
       "(0.025021208714112963, 0.014859926607464952, 0.012976341768395313)"
      ]
     },
     "execution_count": 21,
     "metadata": {},
     "output_type": "execute_result"
    }
   ],
   "source": [
    "print(\"South zones amplitude mean\")\n",
    "np.std(s_amp_17), np.std(s_amp_18), np.std(s_amp_19)"
   ]
  },
  {
   "cell_type": "markdown",
   "metadata": {},
   "source": [
    "## Parametric test"
   ]
  },
  {
   "cell_type": "code",
   "execution_count": 22,
   "metadata": {},
   "outputs": [
    {
     "name": "stdout",
     "output_type": "stream",
     "text": [
      "Statistics=0.487, p=0.637\n",
      "Same distributions (fail to reject H0)\n"
     ]
    }
   ],
   "source": [
    "stat, p = ttest_ind(s_amp_17[0:-1],n_amp_17)\n",
    "print('Statistics=%.3f, p=%.3f' % (stat, p))\n",
    "# interpret\n",
    "alpha = 0.05\n",
    "if p > alpha:\n",
    "\tprint('Same distributions (fail to reject H0)')\n",
    "else:\n",
    "\tprint('Different distributions (reject H0)')"
   ]
  },
  {
   "cell_type": "code",
   "execution_count": 23,
   "metadata": {},
   "outputs": [
    {
     "name": "stdout",
     "output_type": "stream",
     "text": [
      "Statistics=0.324, p=0.753\n",
      "Same distributions (fail to reject H0)\n"
     ]
    }
   ],
   "source": [
    "stat, p = ttest_ind(s_amp_18[0:-1],n_amp_18)\n",
    "print('Statistics=%.3f, p=%.3f' % (stat, p))\n",
    "# interpret\n",
    "alpha = 0.05\n",
    "if p > alpha:\n",
    "\tprint('Same distributions (fail to reject H0)')\n",
    "else:\n",
    "\tprint('Different distributions (reject H0)')"
   ]
  },
  {
   "cell_type": "code",
   "execution_count": 24,
   "metadata": {},
   "outputs": [
    {
     "name": "stdout",
     "output_type": "stream",
     "text": [
      "Statistics=0.195, p=0.849\n",
      "Same distributions (fail to reject H0)\n"
     ]
    }
   ],
   "source": [
    "stat, p = ttest_ind(s_amp_19[0:-1],n_amp_19)\n",
    "print('Statistics=%.3f, p=%.3f' % (stat, p))\n",
    "# interpret\n",
    "alpha = 0.05\n",
    "if p > alpha:\n",
    "\tprint('Same distributions (fail to reject H0)')\n",
    "else:\n",
    "\tprint('Different distributions (reject H0)')"
   ]
  },
  {
   "cell_type": "code",
   "execution_count": 25,
   "metadata": {},
   "outputs": [
    {
     "name": "stdout",
     "output_type": "stream",
     "text": [
      "Statistics=0.572, p=0.592\n",
      "Same distributions (fail to reject H0)\n"
     ]
    }
   ],
   "source": [
    "stat, p = ttest_rel(s_amp_17[0:-1],n_amp_17)\n",
    "print('Statistics=%.3f, p=%.3f' % (stat, p))\n",
    "# interpret\n",
    "alpha = 0.05\n",
    "if p > alpha:\n",
    "\tprint('Same distributions (fail to reject H0)')\n",
    "else:\n",
    "\tprint('Different distributions (reject H0)')"
   ]
  },
  {
   "cell_type": "code",
   "execution_count": 26,
   "metadata": {},
   "outputs": [
    {
     "name": "stdout",
     "output_type": "stream",
     "text": [
      "Statistics=0.360, p=0.734\n",
      "Same distributions (fail to reject H0)\n"
     ]
    }
   ],
   "source": [
    "stat, p = ttest_rel(s_amp_18[0:-1],n_amp_18)\n",
    "print('Statistics=%.3f, p=%.3f' % (stat, p))\n",
    "# interpret\n",
    "alpha = 0.05\n",
    "if p > alpha:\n",
    "\tprint('Same distributions (fail to reject H0)')\n",
    "else:\n",
    "\tprint('Different distributions (reject H0)')"
   ]
  },
  {
   "cell_type": "code",
   "execution_count": 27,
   "metadata": {},
   "outputs": [
    {
     "name": "stdout",
     "output_type": "stream",
     "text": [
      "Statistics=0.195, p=0.849\n",
      "Same distributions (fail to reject H0)\n"
     ]
    }
   ],
   "source": [
    "stat, p = ttest_ind(s_amp_19[0:-1],n_amp_19)\n",
    "print('Statistics=%.3f, p=%.3f' % (stat, p))\n",
    "# interpret\n",
    "alpha = 0.05\n",
    "if p > alpha:\n",
    "\tprint('Same distributions (fail to reject H0)')\n",
    "else:\n",
    "\tprint('Different distributions (reject H0)')"
   ]
  },
  {
   "cell_type": "code",
   "execution_count": 28,
   "metadata": {},
   "outputs": [
    {
     "name": "stdout",
     "output_type": "stream",
     "text": [
      "Statistics=0.237, p=0.637\n",
      "Same distributions (fail to reject H0)\n"
     ]
    }
   ],
   "source": [
    "stat, p = f_oneway(s_amp_17[0:-1],n_amp_17)\n",
    "print('Statistics=%.3f, p=%.3f' % (stat, p))\n",
    "# interpret\n",
    "alpha = 0.05\n",
    "if p > alpha:\n",
    "\tprint('Same distributions (fail to reject H0)')\n",
    "else:\n",
    "\tprint('Different distributions (reject H0)')"
   ]
  },
  {
   "cell_type": "code",
   "execution_count": 29,
   "metadata": {},
   "outputs": [
    {
     "name": "stdout",
     "output_type": "stream",
     "text": [
      "Statistics=0.105, p=0.753\n",
      "Same distributions (fail to reject H0)\n"
     ]
    }
   ],
   "source": [
    "stat, p = f_oneway(s_amp_18[0:-1],n_amp_18)\n",
    "print('Statistics=%.3f, p=%.3f' % (stat, p))\n",
    "# interpret\n",
    "alpha = 0.05\n",
    "if p > alpha:\n",
    "\tprint('Same distributions (fail to reject H0)')\n",
    "else:\n",
    "\tprint('Different distributions (reject H0)')"
   ]
  },
  {
   "cell_type": "code",
   "execution_count": 30,
   "metadata": {},
   "outputs": [
    {
     "name": "stdout",
     "output_type": "stream",
     "text": [
      "Statistics=0.038, p=0.849\n",
      "Same distributions (fail to reject H0)\n"
     ]
    }
   ],
   "source": [
    "stat, p = f_oneway(s_amp_19[0:-1],n_amp_19)\n",
    "print('Statistics=%.3f, p=%.3f' % (stat, p))\n",
    "# interpret\n",
    "alpha = 0.05\n",
    "if p > alpha:\n",
    "\tprint('Same distributions (fail to reject H0)')\n",
    "else:\n",
    "\tprint('Different distributions (reject H0)')"
   ]
  },
  {
   "cell_type": "code",
   "execution_count": 31,
   "metadata": {},
   "outputs": [
    {
     "data": {
      "text/plain": [
       "(-0.8066105190147708, -0.7971049088311536)"
      ]
     },
     "execution_count": 31,
     "metadata": {},
     "output_type": "execute_result"
    }
   ],
   "source": [
    "np.mean(s_pow_17), np.mean(n_pow_17)"
   ]
  },
  {
   "cell_type": "code",
   "execution_count": 32,
   "metadata": {},
   "outputs": [
    {
     "data": {
      "text/plain": [
       "(-0.7507547161271473, -0.7638904087004423)"
      ]
     },
     "execution_count": 32,
     "metadata": {},
     "output_type": "execute_result"
    }
   ],
   "source": [
    "np.mean(s_pow_18), np.mean(n_pow_18)"
   ]
  },
  {
   "cell_type": "code",
   "execution_count": 33,
   "metadata": {},
   "outputs": [
    {
     "data": {
      "text/plain": [
       "(-0.7320468790708395, -0.7199201590339652)"
      ]
     },
     "execution_count": 33,
     "metadata": {},
     "output_type": "execute_result"
    }
   ],
   "source": [
    "np.mean(s_pow_19), np.mean(n_pow_19)"
   ]
  },
  {
   "cell_type": "code",
   "execution_count": 34,
   "metadata": {},
   "outputs": [
    {
     "data": {
      "text/plain": [
       "array([ 0.01601  ,  0.0014495, -0.7392924,  0.0669319])"
      ]
     },
     "execution_count": 34,
     "metadata": {},
     "output_type": "execute_result"
    }
   ],
   "source": [
    "np.round(n6_19,7)"
   ]
  },
  {
   "cell_type": "code",
   "execution_count": 35,
   "metadata": {},
   "outputs": [],
   "source": [
    "twosample_results = scipy.stats.ttest_ind(s_pow_17[0:-1],n_pow_17)"
   ]
  },
  {
   "cell_type": "code",
   "execution_count": 36,
   "metadata": {},
   "outputs": [
    {
     "data": {
      "text/plain": [
       "Ttest_indResult(statistic=0.21917002164181915, pvalue=0.830926317982864)"
      ]
     },
     "execution_count": 36,
     "metadata": {},
     "output_type": "execute_result"
    }
   ],
   "source": [
    "twosample_results"
   ]
  },
  {
   "cell_type": "markdown",
   "metadata": {},
   "source": [
    "## Non-parametric test"
   ]
  },
  {
   "cell_type": "code",
   "execution_count": 37,
   "metadata": {},
   "outputs": [
    {
     "name": "stdout",
     "output_type": "stream",
     "text": [
      "Statistics=8.000, p=0.600179487140553802326792265376\n",
      "Same distribution (fail to reject H0)\n"
     ]
    },
    {
     "name": "stderr",
     "output_type": "stream",
     "text": [
      "/usr/local/lib/python3.7/dist-packages/scipy/stats/morestats.py:2879: UserWarning: Sample size too small for normal approximation.\n",
      "  warnings.warn(\"Sample size too small for normal approximation.\")\n"
     ]
    }
   ],
   "source": [
    "stat, p = wilcoxon(s_amp_17[0:-1],n_amp_17)\n",
    "print('Statistics=%.3f, p=%.30f' % (stat, p))\n",
    "# interpret\n",
    "alpha = 0.05\n",
    "if p > alpha:\n",
    "\tprint('Same distribution (fail to reject H0)')\n",
    "else:\n",
    "\tprint('Different distribution (reject H0)')"
   ]
  },
  {
   "cell_type": "code",
   "execution_count": 38,
   "metadata": {},
   "outputs": [
    {
     "name": "stdout",
     "output_type": "stream",
     "text": [
      "Statistics=18.000, p=0.468093146736529686080530154868\n",
      "Same distribution (fail to reject H0)\n"
     ]
    }
   ],
   "source": [
    "stat, p = mannwhitneyu(s_amp_17[0:-1],n_amp_17)\n",
    "print('Statistics=%.3f, p=%.30f' % (stat, p))\n",
    "# interpret\n",
    "alpha = 0.05\n",
    "if p > alpha:\n",
    "\tprint('Same distribution (fail to reject H0)')\n",
    "else:\n",
    "\tprint('Different distribution (reject H0)')"
   ]
  },
  {
   "cell_type": "markdown",
   "metadata": {},
   "source": [
    "# Analysis making use of bootstraps tool for mean comparison"
   ]
  },
  {
   "cell_type": "code",
   "execution_count": 39,
   "metadata": {},
   "outputs": [],
   "source": [
    "# Copyright 2012 gcalmettes (gcalmettes@ucla.edu), BSD-style copyright and disclaimer apply\n",
    "#!/usr/local/bin/python\n",
    "\n",
    "# needed libraries\n",
    "import numpy as np\n",
    "import random as rd\n",
    "\n",
    "###################################################\n",
    "def bootstrap(data, nboot=10000, replacement=True):\n",
    "    \"\"\"\n",
    "        Generate n=nboot bootstrap samples of the data with/without replacement,\n",
    "        and return a 2D numpy array of them.\n",
    "        Input:    data (anything numpy can handle as a numpy array)\n",
    "        Output:   2D numpy array of size (nboot x length of data)\n",
    "    \"\"\"\n",
    "\n",
    "    # Ensure that our data is a 1D array.\n",
    "    data = np.ravel(data)\n",
    "\n",
    "    # Create a 2D array of bootstrap samples indexes\n",
    "    if replacement==True: # with replacement (note: 50x-ish faster than without)\n",
    "        idx = np.random.randint(data.size, size=(nboot, data.size))\n",
    "    elif replacement==False: # without replacement\n",
    "        idx = np.vstack([np.random.permutation(data.size) for x in np.arange(nboot)])\n",
    "\n",
    "    return data[idx]\n",
    "\n",
    "\n",
    "###################################################\n",
    "def bootci(data, stat=np.mean, nboot=10000, replacement=True, alpha=0.05, method='pi',\n",
    "           keepboot=False):\n",
    "    \"\"\"\n",
    "        Compute the (1-alpha) confidence interval of a statistic (i.e.: mean, median, etc)\n",
    "        of the data using bootstrap resampling.\n",
    "        \n",
    "        Arguments:\n",
    "            stat:        statistics we want the confidence interval for (must be a function)\n",
    "            nboot:       number of bootstrap samples to generate\n",
    "            replacement: resampling done with (True) or without (False) replacement\n",
    "            alpha:       level of confidence interval\n",
    "            method:      type of bootstrap we want to perform\n",
    "            keepboot:    if True, return the nboot bootstrap statistics from which\n",
    "                         the confidence intervals are extracted\n",
    "        \n",
    "        Methods available:\n",
    "            - 'pi' = Percentile Interval\n",
    "            - 'bca' = Bias-Corrected Accelerated Interval (available soon)\n",
    "    \"\"\"\n",
    "\n",
    "    # apply bootstrap to data\n",
    "    boot = bootstrap(data, nboot=nboot, replacement=replacement)\n",
    "\n",
    "    # calculate the statistics for each bootstrap sample and sort them\n",
    "    sorted_stat = np.sort(stat(boot, axis=1))\n",
    "\n",
    "    # Percentile Interval method (for the moment the only one available) \n",
    "    if method == 'pi':\n",
    "        ci = (sorted_stat[np.round(nboot*alpha/2).astype(int)], \n",
    "              sorted_stat[np.round(nboot*(1-alpha/2)).astype(int)])\n",
    "\n",
    "    if keepboot == True:\n",
    "        return ci, sorted_stat\n",
    "    else:\n",
    "        return ci\n",
    "        \n",
    "\n",
    "###################################################\n",
    "def bootci_diff(data1, data2, stat=np.mean, func=np.subtract, nboot=10000,\n",
    "                alpha=0.05, replacement=True, keepboot=False):\n",
    "    \"\"\"\n",
    "        Calculate the effect size of a treatment and compute the confidence\n",
    "        interval of that effect size using bootstrap resampling method.\n",
    "        Arguments:\n",
    "            stat:        statistics we want the confidence interval for (must be a function)\n",
    "            nboot:       number of bootstrap samples to generate\n",
    "            replacement: resampling done with (True) or without (False) replacement\n",
    "            alpha:       level of confidence interval\n",
    "            keepboot:    if True, return the nboot bootstrap statistics from which\n",
    "                         the confidence intervals are extracted\n",
    "    \"\"\"\n",
    "\n",
    "    # Ensure that our data is a 1D array.\n",
    "    data1, data2 = np.ravel(data1), np.ravel(data2)\n",
    "\n",
    "    # bootstrap samples\n",
    "    boot_d1 = bootstrap(data1, nboot=nboot, replacement=replacement)\n",
    "    boot_d2 = bootstrap(data2, nboot=nboot, replacement=replacement)\n",
    "    \n",
    "    # stat of bootstrap samples\n",
    "    boot_d1stat = stat(boot_d1, axis=1)\n",
    "    boot_d2stat = stat(boot_d2, axis=1)\n",
    "    #boot_d1stat = np.array([stat(x) for x in boot_d1])\n",
    "    #boot_d2stat = np.array([stat(x) for x in boot_d2])\n",
    "    \n",
    "    # ci\n",
    "    bootdiff = func(boot_d1stat, boot_d2stat)\n",
    "    sorted_bootdiff = np.sort(bootdiff)\n",
    "    \n",
    "    ci_diff = (sorted_bootdiff[np.round(nboot*alpha/2).astype(int)], \n",
    "             sorted_bootdiff[np.round(nboot*(1-alpha/2)).astype(int)])\n",
    "\n",
    "    if keepboot == True:\n",
    "        return ci_diff, sorted_bootdiff\n",
    "    else:\n",
    "        return ci_diff, bootdiff\n",
    "\n",
    "\n",
    "###################################################\n",
    "def bootpv(data1, data2, stat=np.mean, func=np.subtract, nboot=10000, \n",
    "           replacement=True, printout=True, keepboot=False):\n",
    "    \"\"\"\n",
    "        Assuming that there is no significant difference in the means of \n",
    "        the two samples, return the one-tailed pvalue to see the probability of\n",
    "        getting a difference greater than or equal to the observed difference\n",
    "        in the means by chance alone.\n",
    "        Permutation (replacement = False) or bootstrapping (default, replacement = True)\n",
    "        is used to get a distribution to compare to the observed statistic.\n",
    "        Input:  data1 and data2 (anything numpy can handle as a numpy array)\n",
    "        Output: one-tailed pvalue\n",
    "        Arguments:\n",
    "            stat:        statistics we want the pvalue for (mean, median, etc..)\n",
    "            func:        the function we want to use to compare data (default algebric diff)\n",
    "            nboot:       number of bootstrap samples to generate\n",
    "            replacement: resampling done with (True) or without (False) replacement\n",
    "            printout:    if True (default), print the result of the analysis\n",
    "            keepboot:    if True, return the nboot bootstrap statistics from which\n",
    "                         the confidence intervals are extracted        \n",
    "    \"\"\"\n",
    "\n",
    "    # Ensure that our data are 1D arrays\n",
    "    data1, data2 = np.ravel(data1), np.ravel(data2)\n",
    "\n",
    "    # Mesure the difference of the statistic between the two groups\n",
    "    diff_groups = func(stat(data1), stat(data2))\n",
    "\n",
    "    # Size of the two samples\n",
    "    samplesize1, samplesize2 = data1.size, data2.size\n",
    "\n",
    "    # Put all the values from the two groups in one array\n",
    "    pool = np.hstack((data1, data2))\n",
    "\n",
    "    if replacement == False: # resampling without replacement (permutation)\n",
    "        # Create a matrix of n_samples shuffled indexes of the pool\n",
    "        pool_idxtable = np.array([np.random.permutation(pool.size) for n in range(nboot)])\n",
    "\n",
    "        # Create n_samples sets of data from size of the two groups \n",
    "        sample1 = pool[pool_idxtable[:, :samplesize1]]\n",
    "        sample2 = pool[pool_idxtable[:, samplesize1:]]\n",
    "\n",
    "    elif replacement == True: # bootstrap\n",
    "        bootpool = bootstrap(pool, nboot=nboot, replacement=True)\n",
    "        sample1 = bootpool[:, :samplesize1]\n",
    "        sample2 = bootpool[:, samplesize1:]\n",
    "\n",
    "    param_sample1 = np.array([stat(x) for x in sample1])\n",
    "    param_sample2 = np.array([stat(x) for x in sample2])\n",
    "    \n",
    "    param_func = func(param_sample1, param_sample2)\n",
    "    \n",
    "    # Warning: the criteria set is > or < zero (ok for difference)\n",
    "    # if the func argument is not np.subtract (algebric difference),\n",
    "    # this has to be changed (ex: if np.divide is used, criteria will be\n",
    "    # > or < 1, since a ratio cannot be negative)\n",
    "    if diff_groups < 0:\n",
    "        pvalue = np.sum(param_func <= diff_groups)/float(nboot)\n",
    "    elif diff_groups > 0:\n",
    "        pvalue = np.sum(param_func >= diff_groups)/float(nboot)\n",
    "    \n",
    "    if printout == True:\n",
    "        sign = \"greater than or equal to\"\n",
    "        ndiff = np.sum(param_func >= diff_groups)\n",
    "        if diff_groups < 0:\n",
    "            sign = \"less than or equal to\"\n",
    "            ndiff = np.sum(param_func <= diff_groups)\n",
    "        print(\"Observed difference of two means: {0:.4f}\".format(diff_groups))\n",
    "        print(\"{0:d} out of {1:d} experiments had a difference of two means {2:s} {3:.4f}\"\\\n",
    "            .format(ndiff, nboot, sign, diff_groups))\n",
    "        print(\"The chance of getting a difference of two means {0:s} {1:.4f} is {2:.4f}\"\\\n",
    "              .format(sign, diff_groups, pvalue))\n",
    "       \n",
    "    if keepboot == True:\n",
    "        return pvalue, param_func\n",
    "    else:\n",
    "        return pvalue"
   ]
  },
  {
   "cell_type": "code",
   "execution_count": 40,
   "metadata": {},
   "outputs": [
    {
     "data": {
      "text/plain": [
       "((0.011974827773199193, 0.016112053189578878),\n",
       " array([0.01017082, 0.01017082, 0.01043571, ..., 0.01706422, 0.01720933,\n",
       "        0.01720933]))"
      ]
     },
     "execution_count": 40,
     "metadata": {},
     "output_type": "execute_result"
    }
   ],
   "source": [
    "bootci(n_amp_19,keepboot=True)"
   ]
  },
  {
   "cell_type": "code",
   "execution_count": 41,
   "metadata": {},
   "outputs": [
    {
     "data": {
      "image/png": "[encoded data removed]",
      "text/plain": [
       "<Figure size 432x288 with 1 Axes>"
      ]
     },
     "metadata": {
      "needs_background": "light"
     },
     "output_type": "display_data"
    }
   ],
   "source": [
    "plt.hist(bootci(s_amp_19,keepboot=True)[1],bins=50,alpha=0.5,label='South (19<r<20)')\n",
    "plt.hist(bootci(n_amp_19,keepboot=True)[1],bins=50,alpha=0.5,label='North (19<r<20)')\n",
    "plt.legend(title=r'Bootstrap samples Power ($\\gamma$)')\n",
    "plt.show()"
   ]
  },
  {
   "cell_type": "code",
   "execution_count": 42,
   "metadata": {},
   "outputs": [
    {
     "data": {
      "image/png": "[encoded data removed]",
      "text/plain": [
       "<Figure size 432x288 with 1 Axes>"
      ]
     },
     "metadata": {
      "needs_background": "light"
     },
     "output_type": "display_data"
    }
   ],
   "source": [
    "sm.qqplot(n_amp_19,line='45',scale=1,fit=True, label='Amplitude ($A_0$) North (19<r<20)')\n",
    "plt.legend()\n",
    "plt.show()"
   ]
  },
  {
   "cell_type": "code",
   "execution_count": 43,
   "metadata": {},
   "outputs": [
    {
     "data": {
      "image/png": "[encoded data removed]",
      "text/plain": [
       "<Figure size 432x288 with 1 Axes>"
      ]
     },
     "metadata": {
      "needs_background": "light"
     },
     "output_type": "display_data"
    }
   ],
   "source": [
    "sm.qqplot(s_amp_19,line='45',scale=1,fit=True, label='Amplitud ($A_0$) South (19<r<20)')\n",
    "plt.legend()\n",
    "plt.show()"
   ]
  },
  {
   "cell_type": "code",
   "execution_count": 44,
   "metadata": {},
   "outputs": [
    {
     "data": {
      "text/plain": [
       "((-0.01161127105718391, 0.006654358475228708),\n",
       " array([ 0.00508381, -0.00023642,  0.00472112, ..., -0.0056449 ,\n",
       "        -0.00055118,  0.00543275]))"
      ]
     },
     "execution_count": 44,
     "metadata": {},
     "output_type": "execute_result"
    }
   ],
   "source": [
    "bootci_diff(n_amp_19,s_amp_19)"
   ]
  },
  {
   "cell_type": "code",
   "execution_count": 45,
   "metadata": {},
   "outputs": [
    {
     "data": {
      "image/png": "[encoded data removed]",
      "text/plain": [
       "<Figure size 432x288 with 1 Axes>"
      ]
     },
     "metadata": {
      "needs_background": "light"
     },
     "output_type": "display_data"
    }
   ],
   "source": [
    "plt.hist(bootci_diff(n_amp_19,s_amp_19)[1],bins=50,alpha=0.7)\n",
    "plt.axvline(x=bootci_diff(n_amp_19,s_amp_19)[0][0],linestyle='--',color='k')\n",
    "plt.text(1.05*bootci_diff(n_amp_19,s_amp_19)[0][0],300,str(round(bootci_diff(n_amp_19,s_amp_19)[0][0],3)),horizontalalignment='right')\n",
    "plt.axvline(x=bootci_diff(n_amp_19,s_amp_19)[0][1],linestyle='--',color='k')\n",
    "plt.text(1.05*bootci_diff(n_amp_19,s_amp_19)[0][1],300,str(round(bootci_diff(n_amp_19,s_amp_19)[0][1],3)),horizontalalignment='left')\n",
    "plt.axvline(x=0,linestyle='-',color='r')\n",
    "plt.text(-0.002,300,'0.0',horizontalalignment='right',color='r')\n",
    "plt.show()"
   ]
  },
  {
   "cell_type": "code",
   "execution_count": 46,
   "metadata": {},
   "outputs": [
    {
     "name": "stdout",
     "output_type": "stream",
     "text": [
      "Observed difference of two means: -0.0003\n",
      "4797 out of 10000 experiments had a difference of two means less than or equal to -0.0003\n",
      "The chance of getting a difference of two means less than or equal to -0.0003 is 0.4797\n"
     ]
    },
    {
     "data": {
      "text/plain": [
       "0.4797"
      ]
     },
     "execution_count": 46,
     "metadata": {},
     "output_type": "execute_result"
    }
   ],
   "source": [
    "bootpv(n_amp_19,s_amp_19)"
   ]
  },
  {
   "cell_type": "code",
   "execution_count": null,
   "metadata": {},
   "outputs": [],
   "source": []
  }
 ],
 "metadata": {
  "kernelspec": {
   "display_name": "Python 3",
   "language": "python",
   "name": "python3"
  },
  "language_info": {
   "codemirror_mode": {
    "name": "ipython",
    "version": 3
   },
   "file_extension": ".py",
   "mimetype": "text/x-python",
   "name": "python",
   "nbconvert_exporter": "python",
   "pygments_lexer": "ipython3",
   "version": "3.7.3"
  }
 },
 "nbformat": 4,
 "nbformat_minor": 4
}
